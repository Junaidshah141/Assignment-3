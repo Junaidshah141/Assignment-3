{
 "cells": [
  {
   "cell_type": "markdown",
   "id": "13321f73",
   "metadata": {},
   "source": [
    "# #Assignment  #3\n"
   ]
  },
  {
   "cell_type": "code",
   "execution_count": 1,
   "id": "92c2df6f",
   "metadata": {},
   "outputs": [
    {
     "name": "stdout",
     "output_type": "stream",
     "text": [
      "Twinkle, twinkle, little star,\n",
      "\tHow I wonder what you are!\n",
      "\t\tUp above the wortld so hgh,\n",
      "\t\tLike a diamond in the sky.\n",
      "Twinkle, twinkle, little star,\n",
      "\tHow I wonder what you are!\n"
     ]
    }
   ],
   "source": [
    "print(\"Twinkle, twinkle, little star,\")\n",
    "print(\"\\tHow I wonder what you are!\")\n",
    "print(\"\\t\\tUp above the wortld so hgh,\")\n",
    "print(\"\\t\\tLike a diamond in the sky.\")\n",
    "print(\"Twinkle, twinkle, little star,\")\n",
    "print(\"\\tHow I wonder what you are!\")"
   ]
  },
  {
   "cell_type": "code",
   "execution_count": 2,
   "id": "07b1c5bb",
   "metadata": {},
   "outputs": [
    {
     "name": "stdout",
     "output_type": "stream",
     "text": [
      "The python version is 3.9.7 (default, Sep 16 2021, 16:59:28) [MSC v.1916 64 bit (AMD64)]\n"
     ]
    }
   ],
   "source": [
    "import sys\n",
    "print(\"The python version is \"+ sys.version)"
   ]
  },
  {
   "cell_type": "code",
   "execution_count": 3,
   "id": "dbd5d08e",
   "metadata": {},
   "outputs": [
    {
     "name": "stdout",
     "output_type": "stream",
     "text": [
      "The Current time is :  2022-01-03 23:20:30.594580\n"
     ]
    }
   ],
   "source": [
    "from datetime import datetime\n",
    "\n",
    "# datetime object containing current date and time\n",
    "now = datetime.now()\n",
    " \n",
    "print(\"The Current time is : \", now)"
   ]
  },
  {
   "cell_type": "code",
   "execution_count": 4,
   "id": "e973bcb0",
   "metadata": {},
   "outputs": [
    {
     "name": "stdout",
     "output_type": "stream",
     "text": [
      "Enter the radius of the circle in meter: 23\n",
      "The Area of the Circle is:  1661.9025137490005 m\n"
     ]
    }
   ],
   "source": [
    "from math import pi\n",
    "r = float(input(\"Enter the radius of the circle in meter: \"))\n",
    "area = pi*r**2\n",
    "print(\"The Area of the Circle is: \", area, \"m\")"
   ]
  },
  {
   "cell_type": "code",
   "execution_count": 9,
   "id": "1a8f037e",
   "metadata": {},
   "outputs": [
    {
     "name": "stdout",
     "output_type": "stream",
     "text": [
      "Enter First Name: Junaid\n",
      "Enter Last Name: Shah\n",
      "d i a n u J\n",
      "h a h S\n"
     ]
    }
   ],
   "source": [
    "fname =input(\"Enter First Name: \")\n",
    "lname =input(\"Enter Last Name: \")\n",
    "print(\" \".join(reversed(fname)) )\n",
    "print(\" \".join(reversed(lname)))"
   ]
  },
  {
   "cell_type": "code",
   "execution_count": 11,
   "id": "08a242b5",
   "metadata": {},
   "outputs": [
    {
     "name": "stdout",
     "output_type": "stream",
     "text": [
      "Enter num1: 54\n",
      "Enter num2: 123\n",
      "Enter First Name: Junaid\n",
      "Enter you Last name:  KB\n",
      "177.0\n",
      "Your Full Name is:  Junaid KB\n"
     ]
    }
   ],
   "source": [
    "num1 = float(input(\"Enter num1: \"))\n",
    "num2 = int(input(\"Enter num2: \"))\n",
    "num3 =  num2 + num1\n",
    "\n",
    "a = input(\"Enter First Name: \")\n",
    "b = input(\"Enter you Last name: \")\n",
    "c = a+b\n",
    "\n",
    "print(num3)\n",
    "print(\"Your Full Name is: \", c)"
   ]
  },
  {
   "cell_type": "code",
   "execution_count": null,
   "id": "aa593976",
   "metadata": {},
   "outputs": [],
   "source": []
  }
 ],
 "metadata": {
  "kernelspec": {
   "display_name": "Python 3 (ipykernel)",
   "language": "python",
   "name": "python3"
  },
  "language_info": {
   "codemirror_mode": {
    "name": "ipython",
    "version": 3
   },
   "file_extension": ".py",
   "mimetype": "text/x-python",
   "name": "python",
   "nbconvert_exporter": "python",
   "pygments_lexer": "ipython3",
   "version": "3.9.7"
  }
 },
 "nbformat": 4,
 "nbformat_minor": 5
}
